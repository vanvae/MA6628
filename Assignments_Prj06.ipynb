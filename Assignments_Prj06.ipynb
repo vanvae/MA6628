{
 "cells": [
  {
   "cell_type": "markdown",
   "metadata": {},
   "source": [
    "**Zheng Jintao  55404187**\n",
    "\n",
    "__Prj06__\n",
    "\n",
    "Approximate the price $e^{-rT}\\mathbb E [F(S)]$, where\n",
    "\n",
    "- Asset follows $S = GBM(S_0, r, \\sigma)$;\n",
    "- Knock-in payoff is given as\n",
    "$$F(S) = 1000 \\cdot I(S_T > K) \\cdot I\\Big(\\min_{1\\le k \\le m} S(t_k) < H\\Big).$$\n",
    "\n",
    "__Parameters__\n",
    "\n",
    "- $r = 5\\%, \\sigma = 15\\%, S(0) = 95$\n",
    "- $T = 0.25, m = 50, H = 85, K = 96.$\n",
    "- $k = 1000$, $n = 1000$\n",
    "\n",
    "__Todo__\n",
    "\n",
    "- Repeat $k$ times of the ordinary MC, with $n$ simulation for each MC. Find mean, MSE, and confidence interval using $k$ many MC outputs.\n",
    "\n",
    "- Repeat the above procedure with importance sampling.\n",
    "\n",
    "- Explain your decision of new probability in your importance sampling. Is it optimal choice?"
   ]
  },
  {
   "cell_type": "markdown",
   "metadata": {},
   "source": [
    "***\n",
    "* **GBM of Stock Price**"
   ]
  },
  {
   "cell_type": "code",
   "execution_count": 1,
   "metadata": {},
   "outputs": [],
   "source": [
    "import numpy as np\n",
    "import scipy.stats as ss\n",
    "import matplotlib.pyplot as plt\n",
    "import seaborn as sb "
   ]
  },
  {
   "cell_type": "code",
   "execution_count": 2,
   "metadata": {},
   "outputs": [],
   "source": [
    "#define a function of BM path generator\n",
    "def BM_gen(T1, T2, n): #para: start time, end time, mesh number\n",
    "    t = np.linspace(T1, T2, num = n+1) #init mesh\n",
    "    W = np.zeros(n+1)\n",
    "    for i in range(n):\n",
    "        W[i+1] = W[i] + np.sqrt(t[i+1]-t[i]) * np.random.normal()\n",
    "    return t, W    "
   ]
  },
  {
   "cell_type": "code",
   "execution_count": 3,
   "metadata": {},
   "outputs": [],
   "source": [
    "#define price for the knock-in option\n",
    "def F(S0=95, r=.05, sigma=.15, K=96, H=85, T=0.25, m=50):\n",
    "    [t, W] = BM_gen(0, T, m-1) #BM path\n",
    "    S = S0 * np.exp((r - sigma**2 / 2) * t + sigma * W) #Stock path\n",
    "    F_price = 1000*(min(S)<H)*(S[-1]>K)\n",
    "    return F_price"
   ]
  },
  {
   "cell_type": "markdown",
   "metadata": {},
   "source": [
    "* **Ordinary MC**"
   ]
  },
  {
   "cell_type": "markdown",
   "metadata": {},
   "source": [
    "___\n",
    "\n",
    "__Analysis:__\n",
    "\n",
    "We denote the sequence of the payoff as ${X_1, X_2, \\cdots, X_k}$. When we repeat k times of ordinary MC, by the CLT theorem, we know that\n",
    "\n",
    "\\begin{equation*}\n",
    "\\frac{\\sqrt{k} (S_k - \\mu)}{\\sigma} \\sim \\mathcal{N}(0,1),\n",
    "\\end{equation*}\n",
    "\n",
    "where $S_k = \\frac{\\sum_{i =1}^{k} X_i}{k}$ and $\\mu = \\mathbb{E}[X_i], \\sigma = var[X_i].$ \n",
    "\n",
    "When the number of simulation is large enough, we can approximatively consider the distribution of the sample mean of payoff is normal with mean equal to the sample mean and variance equal to the sample varaince. So we get the bilateral confidence interval with confidence level equal to $1-\\alpha$ as follow\n",
    "\n",
    "\\begin{equation*}\n",
    "\\mu = \\frac{1}{k} \\sum_{i =1}^{k} X_i \\pm \\frac{\\sigma}{\\sqrt{k}} Z(\\alpha /2),\n",
    "\\end{equation*}\n",
    "\n",
    "where $Z(\\alpha /2)$ is the $\\alpha/2$ upper quantile of standard normal distribution."
   ]
  },
  {
   "cell_type": "code",
   "execution_count": 4,
   "metadata": {},
   "outputs": [],
   "source": [
    "S0 = 95\n",
    "r = .05\n",
    "sigma = .15\n",
    "K = 96\n",
    "H = 85\n",
    "T = 0.25\n",
    "m = 50\n",
    "k = 1000\n",
    "n = 1000"
   ]
  },
  {
   "cell_type": "code",
   "execution_count": 5,
   "metadata": {},
   "outputs": [],
   "source": [
    "# Repeat 𝑘 times of the 𝑛 simulation ordinary MC\n",
    "F_all = np.zeros(n)\n",
    "F_OMC = np.zeros(k)\n",
    "for i in range(k):\n",
    "    for j in range(n):\n",
    "        F_all[j] = F()\n",
    "    F_OMC[i] =  np.exp(-r*T)*np.mean(F_all)"
   ]
  },
  {
   "cell_type": "markdown",
   "metadata": {},
   "source": [
    "* **OMC(Mean; Variance; MSE; Confidence Interval)**"
   ]
  },
  {
   "cell_type": "code",
   "execution_count": 6,
   "metadata": {},
   "outputs": [
    {
     "name": "stdout",
     "output_type": "stream",
     "text": [
      "Mean of price OMC samples :  0.5688448130844758\n",
      "Variance of price OMC samples :  0.5815031769891807\n"
     ]
    }
   ],
   "source": [
    "VF_OMC = np.var(F_OMC)\n",
    "MF_OMC = np.mean(F_OMC)\n",
    "print('Mean of price OMC samples :  '+str(MF_OMC)+'\\n'\n",
    "     'Variance of price OMC samples :  '+str(VF_OMC))"
   ]
  },
  {
   "cell_type": "code",
   "execution_count": 7,
   "metadata": {
    "scrolled": true
   },
   "outputs": [
    {
     "name": "stdout",
     "output_type": "stream",
     "text": [
      "MSE of price OMC samples : 0.5815031769891807\n"
     ]
    }
   ],
   "source": [
    "MSEF_OMC = np.mean([i*i for i in [i-MF_OMC for i in F_OMC]])\n",
    "print('MSE of price OMC samples : '+str(MSEF_OMC))"
   ]
  },
  {
   "cell_type": "code",
   "execution_count": 8,
   "metadata": {},
   "outputs": [
    {
     "data": {
      "image/png": "[encoded data removed]",
      "text/plain": [
       "<Figure size 432x288 with 1 Axes>"
      ]
     },
     "metadata": {
      "needs_background": "light"
     },
     "output_type": "display_data"
    }
   ],
   "source": [
    "weights = np.ones_like(F_OMC)/float(len(F_OMC))\n",
    "plt.hist(F_OMC, bins=5,weights=weights, color ='steelblue')\n",
    "plt.xlabel('Price')\n",
    "plt.xlim(0.0,5.0)\n",
    "plt.ylabel('Frequency')\n",
    "plt.title('Frequency of OMC Prices')\n",
    "plt.show()"
   ]
  },
  {
   "cell_type": "code",
   "execution_count": 9,
   "metadata": {},
   "outputs": [
    {
     "name": "stdout",
     "output_type": "stream",
     "text": [
      "95% confidence interval \n",
      "[ 0.5565471435328024 ,0.5811424826361491 ]\n"
     ]
    }
   ],
   "source": [
    "z=abs(ss.norm.cdf(0.025))\n",
    "#A 95% confidence interval\n",
    "print('95% confidence interval \\n'+\n",
    "      '[ '+str(MF_OMC-z*np.sqrt(VF_OMC/k))+' ,'+\n",
    "     str(MF_OMC+z*np.sqrt(VF_OMC/k))+' ]')"
   ]
  },
  {
   "cell_type": "markdown",
   "metadata": {},
   "source": [
    "* **Importance Sampling**"
   ]
  },
  {
   "cell_type": "code",
   "execution_count": 29,
   "metadata": {},
   "outputs": [],
   "source": [
    "S0 = 95\n",
    "r = .05\n",
    "sigma = .15\n",
    "K = 96\n",
    "H = 85\n",
    "T = 0.25\n",
    "m = 50\n",
    "k = 1000\n",
    "n = 1000\n",
    "\n",
    "Minusb = np.log(H/S0)\n",
    "c = np.log(K/S0)\n",
    "h = int(m/2)\n",
    "dt = T/m\n",
    "\n",
    "r_1 = 0.06\n",
    "r_2 = 0.06\n",
    "theta_1 = - (r_1 + r)/sigma\n",
    "theta_2 =  (r_2 - r) /sigma"
   ]
  },
  {
   "cell_type": "code",
   "execution_count": 30,
   "metadata": {},
   "outputs": [],
   "source": [
    "# Repeat 𝑘 times of the 𝑛 simulation Importance Sampling\n",
    "F_all_IS = np.zeros(n)\n",
    "F_IS = np.zeros(k)\n",
    "for i in np.arange(k):\n",
    "    for j in np.arange(n):\n",
    "        dW = np.sqrt(dt)*ss.norm.rvs(size = m)\n",
    "        W_t = dW.cumsum()      ## the path of Brownian Motion\n",
    "        dL1_t = (- r_1 - 0.5 * sigma**2) *dt + sigma * dW[0:h]   ## the scatter of Lt in the first stage\n",
    "        dL2_t = (r_2 - 0.5 *sigma**2)*dt + sigma* dW[h:m]       ## the scatter of Lt in the second stage\n",
    "        L = np.append(dL1_t , dL2_t).cumsum()     ## the path of Lt\n",
    "        gamma1 = theta_1 * dL1_t.cumsum()[-1] + theta_2 * dL2_t.cumsum()[-1] - (theta_1**2 + theta_2**2)/T/4\n",
    "        gamma = np.exp(gamma1)\n",
    "        F_all_IS[j] = 1000*float(L[-1]>c)*float(L.min()<Minusb) * gamma \n",
    "    F_IS[i] = F_all_IS.mean()*np.exp(-r*T)"
   ]
  },
  {
   "cell_type": "markdown",
   "metadata": {},
   "source": [
    "* **IS(Mean; Variance; MSE; Confidence Interval)**"
   ]
  },
  {
   "cell_type": "code",
   "execution_count": 31,
   "metadata": {},
   "outputs": [
    {
     "name": "stdout",
     "output_type": "stream",
     "text": [
      "Mean of price IS samples :  0.5531066067688276\n",
      "Variance of price IS samples :  0.34608634157938234\n"
     ]
    }
   ],
   "source": [
    "VF_IS = np.var(F_IS)\n",
    "MF_IS = np.mean(F_IS)\n",
    "print('Mean of price IS samples :  '+str(MF_IS)+'\\n'\n",
    "     'Variance of price IS samples :  '+str(VF_IS))"
   ]
  },
  {
   "cell_type": "code",
   "execution_count": 32,
   "metadata": {},
   "outputs": [
    {
     "name": "stdout",
     "output_type": "stream",
     "text": [
      "MSE of price IS samples : 0.34608634157938234\n"
     ]
    }
   ],
   "source": [
    "MSEF_IS = np.mean([i*i for i in [i-MF_IS for i in F_IS]])\n",
    "print('MSE of price IS samples : '+str(MSEF_IS))"
   ]
  },
  {
   "cell_type": "code",
   "execution_count": 33,
   "metadata": {},
   "outputs": [
    {
     "data": {
      "image/png": "[encoded data removed]",
      "text/plain": [
       "<Figure size 432x288 with 1 Axes>"
      ]
     },
     "metadata": {
      "needs_background": "light"
     },
     "output_type": "display_data"
    }
   ],
   "source": [
    "weights = np.ones_like(F_IS)/float(len(F_IS))\n",
    "plt.hist(F_IS, bins=5,weights=weights, color ='steelblue')\n",
    "plt.xlabel('Price')\n",
    "plt.xlim(0.0,5)\n",
    "plt.ylabel('Frequency')\n",
    "plt.title('Frequency of IS Prices')\n",
    "plt.show() "
   ]
  },
  {
   "cell_type": "code",
   "execution_count": 15,
   "metadata": {},
   "outputs": [
    {
     "name": "stdout",
     "output_type": "stream",
     "text": [
      "95% confidence interval \n",
      "[ 0.5319991492883478 ,0.5506456872368464 ]\n"
     ]
    }
   ],
   "source": [
    "z=abs(ss.norm.cdf(0.025))\n",
    "#A 95% confidence interval\n",
    "print('95% confidence interval \\n'+\n",
    "      '[ '+str(MF_IS-z*np.sqrt(VF_IS/k))+' ,'+\n",
    "     str(MF_IS+z*np.sqrt(VF_IS/k))+' ]')"
   ]
  },
  {
   "cell_type": "markdown",
   "metadata": {},
   "source": [
    "* **Decision of new probability in IS**"
   ]
  },
  {
   "cell_type": "markdown",
   "metadata": {},
   "source": [
    "$$\\mathbb{E}f(x)=\\int f(x)p(x)dx \\approx \\frac{1}{n}\\sum_{i=1}^{n}f(x_i)$$\n",
    "$$\\mathbb{E}f(x)=\\int f(x)\\frac{p(x)}{q(x)}q(x)dx\\approx \\frac{1}{n}\\sum_{i=1}^{n}f(x_{i})\\frac{p(x_{i})}{q(x_i)}$$\n",
    "\n",
    "\n",
    "**Moral: Choose q(x) large where $\\left | f(x) \\right |$ p(x) is large**\n",
    "\n",
    "Find the better choice for r bind"
   ]
  },
  {
   "cell_type": "code",
   "execution_count": 22,
   "metadata": {},
   "outputs": [],
   "source": [
    "S0 = 95\n",
    "r = .05\n",
    "sigma = .15\n",
    "K = 96\n",
    "H = 85\n",
    "T = 0.25\n",
    "m = 50\n",
    "k = 1000\n",
    "n = 1000\n",
    "\n",
    "Minusb = np.log(H/S0)\n",
    "c = np.log(K/S0)\n",
    "p= 10\n",
    "rb = np.linspace(0.01,2*r,p)"
   ]
  },
  {
   "cell_type": "code",
   "execution_count": 23,
   "metadata": {},
   "outputs": [],
   "source": [
    "# find the better r\n",
    "F_var = np.zeros(p)\n",
    "F_mean = np.zeros(p)\n",
    "F_all_IS = np.zeros(n)\n",
    "F_IS = np.zeros(k)\n",
    "for s in range(p):\n",
    "    for i in range(k):\n",
    "        for j in range(n):\n",
    "            dW = np.sqrt(dt)*ss.norm.rvs(size = m)\n",
    "            W_t = dW.cumsum()      ## the path of Brownian Motion\n",
    "            dL1_t = (- rb[s] - 0.5 * sigma**2) *dt + sigma * dW[0:h]   ## the scatter of Lt in the first stage\n",
    "            dL2_t = (rb[s] - 0.5 *sigma**2)*dt + sigma* dW[h:m]       ## the scatter of Lt in the second stage\n",
    "            L = np.append(dL1_t , dL2_t).cumsum()     ## the path of Lt\n",
    "            theta_1 = - (rb[s] + r)/sigma\n",
    "            theta_2 =  (rb[s] - r) /sigma\n",
    "            gamma1 = theta_1 * dL1_t.cumsum()[-1] + theta_2 * dL2_t.cumsum()[-1] - (theta_1**2 + theta_2**2)/T/4\n",
    "            gamma = np.exp(gamma1)\n",
    "            F_all_IS[j] = 1000*float(L[-1]>c)*float(L.min()<Minusb) * gamma \n",
    "        F_IS[i] = F_all_IS.mean()*np.exp(-r*T)\n",
    "    F_var[s] = np.var(F_IS)\n",
    "    F_mean[s] = np.mean(F_IS)   "
   ]
  },
  {
   "cell_type": "code",
   "execution_count": 24,
   "metadata": {},
   "outputs": [],
   "source": [
    "z=ss.norm.cdf(0.05/2)\n",
    "F_ub = F_mean + np.sqrt(F_var/k)*z\n",
    "F_lb = F_mean - np.sqrt(F_var/k)*z"
   ]
  },
  {
   "cell_type": "code",
   "execution_count": 25,
   "metadata": {},
   "outputs": [
    {
     "data": {
      "text/plain": [
       "<matplotlib.legend.Legend at 0x1f3bbe0ab70>"
      ]
     },
     "execution_count": 25,
     "metadata": {},
     "output_type": "execute_result"
    },
    {
     "data": {
      "image/png": "[encoded data removed]",
      "text/plain": [
       "<Figure size 432x288 with 1 Axes>"
      ]
     },
     "metadata": {
      "needs_background": "light"
     },
     "output_type": "display_data"
    }
   ],
   "source": [
    "# plot the shaded range of the confidence intervals\n",
    "plt.fill_between(range(F_mean.shape[0]), F_ub, F_lb,color='b', alpha=.5)\n",
    "# plot the mean on top\n",
    "plt.plot(F_mean, 'b')\n",
    "plt.xlabel('r_Subscript')\n",
    "plt.xlim(0.0,p-1)\n",
    "plt.ylabel('Price')\n",
    "plt.axhline(MF_OMC, color='r', ls='dashed', lw=1.5, label='OMC F Mean Price')\n",
    "plt.title('Option Price mean and confidence interval plot')\n",
    "plt.legend()"
   ]
  },
  {
   "cell_type": "code",
   "execution_count": 26,
   "metadata": {},
   "outputs": [
    {
     "data": {
      "text/plain": [
       "array([0.44763542, 0.51079027, 0.527223  , 0.52361521, 0.53626141,\n",
       "       0.50492134, 0.53382145, 0.54176667, 0.51525576, 0.50410303])"
      ]
     },
     "execution_count": 26,
     "metadata": {},
     "output_type": "execute_result"
    }
   ],
   "source": [
    "F_mean"
   ]
  },
  {
   "cell_type": "code",
   "execution_count": 27,
   "metadata": {},
   "outputs": [
    {
     "data": {
      "text/plain": [
       "array([0.32537704, 0.40199839, 0.41986568, 0.38038244, 0.3505265 ,\n",
       "       0.32212892, 0.30211924, 0.28042506, 0.23756542, 0.1862156 ])"
      ]
     },
     "execution_count": 27,
     "metadata": {},
     "output_type": "execute_result"
    }
   ],
   "source": [
    "F_var"
   ]
  },
  {
   "cell_type": "code",
   "execution_count": null,
   "metadata": {},
   "outputs": [],
   "source": []
  }
 ],
 "metadata": {
  "kernelspec": {
   "display_name": "Python 3",
   "language": "python",
   "name": "python3"
  },
  "language_info": {
   "codemirror_mode": {
    "name": "ipython",
    "version": 3
   },
   "file_extension": ".py",
   "mimetype": "text/x-python",
   "name": "python",
   "nbconvert_exporter": "python",
   "pygments_lexer": "ipython3",
   "version": "3.7.1"
  }
 },
 "nbformat": 4,
 "nbformat_minor": 2
}
