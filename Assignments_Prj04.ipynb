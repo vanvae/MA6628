{
 "cells": [
  {
   "cell_type": "markdown",
   "metadata": {},
   "source": [
    "**Prj04**\n",
    "\n",
    "Consider the following data sets:\n",
    "\n",
    "- Today: Sep 27, 2018\n",
    "\n",
    "- Spot price: 290.68\n",
    "\n",
    "- Maturity: Dec 31, 2018\n",
    "\n",
    "- Strike: 288\n",
    "\n",
    "- rate: 0.02 (from https://www.treasury.gov/resource-center/data-chart-center/interest-rates/Pages/TextView.aspx?data=yield)\n",
    "\n",
    "- Market call price: 9.23\n",
    "\n",
    "**Todo**\n",
    "\n",
    "1. If the volatility is $30\\%$, what is the difference between BSM call price and market call price?\n",
    "2. Compute the implied volatility."
   ]
  },
  {
   "cell_type": "markdown",
   "metadata": {},
   "source": [
    "* ***BSM_option_valuation***"
   ]
  },
  {
   "cell_type": "code",
   "execution_count": 1,
   "metadata": {},
   "outputs": [],
   "source": [
    "import numpy as np\n",
    "import scipy.stats as ss\n",
    "import time \n",
    "import math\n",
    "\n",
    "def d1f(St, K, t, T, r, sigma):\n",
    "    ''' Black-Scholes-Merton d1 function.\n",
    "        Parameters see e.g. BSM_call_value function. '''\n",
    "    d1 = (math.log(St / K) + (r + 0.5 * sigma ** 2)\n",
    "          * (T - t)) / (sigma * math.sqrt(T - t))\n",
    "    return d1\n",
    "\n",
    "def BSM_call_value(St, K, t, T, r, sigma):\n",
    "    ''' Calculates Black-Scholes-Merton European call option value.\n",
    "\n",
    "    Parameters\n",
    "    ==========\n",
    "    St : float\n",
    "        stock/index level at time t\n",
    "    K : float\n",
    "        strike price\n",
    "    t : float\n",
    "        valuation date\n",
    "    T : float\n",
    "        date of maturity/time-to-maturity if t = 0; T > t\n",
    "    r : float\n",
    "        constant, risk-less short rate\n",
    "    sigma : float\n",
    "        volatility\n",
    "\n",
    "    Returns\n",
    "    =======\n",
    "    call_value : float\n",
    "        European call present value at t\n",
    "    '''\n",
    "    d1 = d1f(St, K, t, T, r, sigma)\n",
    "    d2 = d1 - sigma * math.sqrt(T - t)\n",
    "    call_value = St * ss.norm.cdf(d1) - math.exp(-r * (T - t)) * K * ss.norm.cdf(d2)\n",
    "    return call_value\n",
    "\n",
    "def BSM_put_value(St, K, t, T, r, sigma):\n",
    "    ''' Calculates Black-Scholes-Merton European put option value.\n",
    "\n",
    "    Parameters\n",
    "    ==========\n",
    "    St : float\n",
    "        stock/index level at time t\n",
    "    K : float\n",
    "        strike price\n",
    "    t : float\n",
    "        valuation date\n",
    "    T : float\n",
    "        date of maturity/time-to-maturity if t = 0; T > t\n",
    "    r : float\n",
    "        constant, risk-less short rate\n",
    "    sigma : float\n",
    "        volatility\n",
    "\n",
    "    Returns\n",
    "    =======\n",
    "    put_value : float\n",
    "        European put present value at t\n",
    "    '''\n",
    "    put_value = BSM_call_value(St, K, t, T, r, sigma) \\\n",
    "        - St + math.exp(-r * (T - t)) * K\n",
    "    return put_value"
   ]
  },
  {
   "cell_type": "markdown",
   "metadata": {},
   "source": [
    "# Solution to Q1\n",
    "**the difference between BSM call price and market call price**"
   ]
  },
  {
   "cell_type": "code",
   "execution_count": 2,
   "metadata": {},
   "outputs": [
    {
     "name": "stdout",
     "output_type": "stream",
     "text": [
      "Maturity: 2018-12-31 00:00:00 \n",
      " Today: 2018-09-27 00:00:00 \n",
      " T: 0.2602739726027397\n"
     ]
    }
   ],
   "source": [
    "import pandas as pd\n",
    "import datetime\n",
    "Maturity = datetime.datetime(2018,12,31)\n",
    "Today = datetime.datetime(2018,9,27)\n",
    "T = (Maturity - Today).days / 365.\n",
    "print('Maturity: %s \\n'%(Maturity),'Today: %s \\n'%(Today), 'T: %s'%(T))"
   ]
  },
  {
   "cell_type": "code",
   "execution_count": 3,
   "metadata": {},
   "outputs": [
    {
     "name": "stdout",
     "output_type": "stream",
     "text": [
      "BSM_call_value is $10.539937820552115 more expensive than call_marketprice\n"
     ]
    }
   ],
   "source": [
    "S0 = 290.68\n",
    "K = 288\n",
    "r = 0.02\n",
    "sigma = 0.3\n",
    "call_marketprice = 9.23\n",
    "diff = BSM_call_value(S0, K, 0, T, r, sigma) - call_marketprice\n",
    "if diff > 0 :\n",
    "    print ('BSM_call_value is $%s more expensive than call_marketprice'%(diff))\n",
    "else :\n",
    "    print ('call_marketprice $%s more expensive than BSM_call_value'%(diff))"
   ]
  },
  {
   "cell_type": "markdown",
   "metadata": {},
   "source": [
    "# Solution to Q2\n",
    "**Compute the implied volatility**"
   ]
  },
  {
   "cell_type": "code",
   "execution_count": 8,
   "metadata": {},
   "outputs": [],
   "source": [
    "from scipy import optimize\n",
    "def IVolBsm(S0, K, T, r, P0):\n",
    "    \"\"\"\n",
    "    Inputs:\n",
    "        S0: spot price\n",
    "        K: strike\n",
    "        T: time to maturity in year\n",
    "        r: rate\n",
    "        P0: market price\n",
    "    Outputs:\n",
    "        Implied volatility\n",
    "    \"\"\"\n",
    "    InitVol = .3\n",
    "    error = lambda sigma: (BSM_call_value(S0, K, 0, T, r, sigma) - P0)**2\n",
    "    opt = optimize.fmin(error, InitVol);\n",
    "    return opt[0]"
   ]
  },
  {
   "cell_type": "code",
   "execution_count": 9,
   "metadata": {},
   "outputs": [
    {
     "name": "stdout",
     "output_type": "stream",
     "text": [
      "Optimization terminated successfully.\n",
      "         Current function value: 0.000000\n",
      "         Iterations: 15\n",
      "         Function evaluations: 30\n",
      "Optimization terminated successfully.\n",
      "         Current function value: 0.000000\n",
      "         Iterations: 15\n",
      "         Function evaluations: 30\n",
      "Implied volatility is 0.118242 \n",
      " Now the BSM_call_value with implied volatility is : 9.230463\n"
     ]
    }
   ],
   "source": [
    "print('Implied volatility is %f \\n' %IVolBsm(S0, K, T, r, call_marketprice),\n",
    "      'Now the BSM_call_value with implied volatility is : %f'%(BSM_call_value(S0, K, 0, T, r, IVolBsm(S0, K, T, r, call_marketprice))))"
   ]
  },
  {
   "cell_type": "code",
   "execution_count": null,
   "metadata": {},
   "outputs": [],
   "source": []
  }
 ],
 "metadata": {
  "kernelspec": {
   "display_name": "Python [conda env:Anaconda]",
   "language": "python",
   "name": "conda-env-Anaconda-py"
  },
  "language_info": {
   "codemirror_mode": {
    "name": "ipython",
    "version": 3
   },
   "file_extension": ".py",
   "mimetype": "text/x-python",
   "name": "python",
   "nbconvert_exporter": "python",
   "pygments_lexer": "ipython3",
   "version": "3.7.0"
  }
 },
 "nbformat": 4,
 "nbformat_minor": 2
}
