{
 "cells": [
  {
   "cell_type": "markdown",
   "metadata": {},
   "source": [
    "# Zheng Jintao 55404187\n",
    "**Prj01** (L01)\n",
    "\n",
    "A twin prime is a prime number that is either 2 less or 2 more than another prime number, see for details here: https://en.wikipedia.org/wiki/Twin_prime\n",
    "\n",
    "- How many twin primes are bigger than one thousand but smaller than one million?\n",
    "- What is the biggest twin prime you could find?"
   ]
  },
  {
   "cell_type": "markdown",
   "metadata": {},
   "source": [
    "**Q1 Find twin primes in [1000,1000000]**"
   ]
  },
  {
   "cell_type": "markdown",
   "metadata": {},
   "source": [
    "*S1 find prime numbers*"
   ]
  },
  {
   "cell_type": "markdown",
   "metadata": {},
   "source": [
    "- version 1.0 "
   ]
  },
  {
   "cell_type": "code",
   "execution_count": 1,
   "metadata": {},
   "outputs": [],
   "source": [
    "max = 1000"
   ]
  },
  {
   "cell_type": "code",
   "execution_count": 2,
   "metadata": {},
   "outputs": [],
   "source": [
    "min = 2"
   ]
  },
  {
   "cell_type": "code",
   "execution_count": 3,
   "metadata": {},
   "outputs": [
    {
     "name": "stdout",
     "output_type": "stream",
     "text": [
      "2\n",
      "3\n",
      "5\n",
      "7\n",
      "11\n",
      "13\n",
      "17\n",
      "19\n",
      "23\n",
      "29\n",
      "31\n",
      "37\n",
      "41\n",
      "43\n",
      "47\n",
      "53\n",
      "59\n",
      "61\n",
      "67\n",
      "71\n",
      "73\n",
      "79\n",
      "83\n",
      "89\n",
      "97\n",
      "101\n",
      "103\n",
      "107\n",
      "109\n",
      "113\n",
      "127\n",
      "131\n",
      "137\n",
      "139\n",
      "149\n",
      "151\n",
      "157\n",
      "163\n",
      "167\n",
      "173\n",
      "179\n",
      "181\n",
      "191\n",
      "193\n",
      "197\n",
      "199\n",
      "211\n",
      "223\n",
      "227\n",
      "229\n",
      "233\n",
      "239\n",
      "241\n",
      "251\n",
      "257\n",
      "263\n",
      "269\n",
      "271\n",
      "277\n",
      "281\n",
      "283\n",
      "293\n",
      "307\n",
      "311\n",
      "313\n",
      "317\n",
      "331\n",
      "337\n",
      "347\n",
      "349\n",
      "353\n",
      "359\n",
      "367\n",
      "373\n",
      "379\n",
      "383\n",
      "389\n",
      "397\n",
      "401\n",
      "409\n",
      "419\n",
      "421\n",
      "431\n",
      "433\n",
      "439\n",
      "443\n",
      "449\n",
      "457\n",
      "461\n",
      "463\n",
      "467\n",
      "479\n",
      "487\n",
      "491\n",
      "499\n",
      "503\n",
      "509\n",
      "521\n",
      "523\n",
      "541\n",
      "547\n",
      "557\n",
      "563\n",
      "569\n",
      "571\n",
      "577\n",
      "587\n",
      "593\n",
      "599\n",
      "601\n",
      "607\n",
      "613\n",
      "617\n",
      "619\n",
      "631\n",
      "641\n",
      "643\n",
      "647\n",
      "653\n",
      "659\n",
      "661\n",
      "673\n",
      "677\n",
      "683\n",
      "691\n",
      "701\n",
      "709\n",
      "719\n",
      "727\n",
      "733\n",
      "739\n",
      "743\n",
      "751\n",
      "757\n",
      "761\n",
      "769\n",
      "773\n",
      "787\n",
      "797\n",
      "809\n",
      "811\n",
      "821\n",
      "823\n",
      "827\n",
      "829\n",
      "839\n",
      "853\n",
      "857\n",
      "859\n",
      "863\n",
      "877\n",
      "881\n",
      "883\n",
      "887\n",
      "907\n",
      "911\n",
      "919\n",
      "929\n",
      "937\n",
      "941\n",
      "947\n",
      "953\n",
      "967\n",
      "971\n",
      "977\n",
      "983\n",
      "991\n",
      "997\n"
     ]
    }
   ],
   "source": [
    "for x in range(2, max + 1) :\n",
    "    isPrime = True\n",
    "    for y in range(2, x) :\n",
    "        if x % y == 0 :\n",
    "            isPrime = False\n",
    "            break # not a prime stop calculating in the inner loop\n",
    "    if isPrime :\n",
    "        print(x)"
   ]
  },
  {
   "cell_type": "markdown",
   "metadata": {},
   "source": [
    "- version 2.0"
   ]
  },
  {
   "cell_type": "code",
   "execution_count": 4,
   "metadata": {
    "scrolled": true
   },
   "outputs": [
    {
     "name": "stdout",
     "output_type": "stream",
     "text": [
      "[2, 3, 5, 7, 11, 13, 17, 19, 23, 29, 31, 37, 41, 43, 47, 53, 59, 61, 67, 71, 73, 79, 83, 89, 97, 101, 103, 107, 109, 113, 127, 131, 137, 139, 149, 151, 157, 163, 167, 173, 179, 181, 191, 193, 197, 199, 211, 223, 227, 229, 233, 239, 241, 251, 257, 263, 269, 271, 277, 281, 283, 293, 307, 311, 313, 317, 331, 337, 347, 349, 353, 359, 367, 373, 379, 383, 389, 397, 401, 409, 419, 421, 431, 433, 439, 443, 449, 457, 461, 463, 467, 479, 487, 491, 499, 503, 509, 521, 523, 541, 547, 557, 563, 569, 571, 577, 587, 593, 599, 601, 607, 613, 617, 619, 631, 641, 643, 647, 653, 659, 661, 673, 677, 683, 691, 701, 709, 719, 727, 733, 739, 743, 751, 757, 761, 769, 773, 787, 797, 809, 811, 821, 823, 827, 829, 839, 853, 857, 859, 863, 877, 881, 883, 887, 907, 911, 919, 929, 937, 941, 947, 953, 967, 971, 977, 983, 991, 997]\n"
     ]
    }
   ],
   "source": [
    "PrimeList = [] # save prime values using list \n",
    "for x in range(2, max+1) : \n",
    "    isPrime = True\n",
    "    for y in range(2, x) :\n",
    "        if x % y == 0 :\n",
    "            isPrime = False\n",
    "            break # not a prime stop calculating in the inner loop\n",
    "    if isPrime :\n",
    "        PrimeList.append(x) # a list of all the found prime numbers & print them just in one print statement\n",
    "print(PrimeList)"
   ]
  },
  {
   "cell_type": "markdown",
   "metadata": {},
   "source": [
    "- version 3.0"
   ]
  },
  {
   "cell_type": "code",
   "execution_count": 5,
   "metadata": {},
   "outputs": [
    {
     "name": "stdout",
     "output_type": "stream",
     "text": [
      "[2, 3, 5, 7, 11, 13, 17, 19, 23, 29, 31, 37, 41, 43, 47, 53, 59, 61, 67, 71, 73, 79, 83, 89, 97, 101, 103, 107, 109, 113, 127, 131, 137, 139, 149, 151, 157, 163, 167, 173, 179, 181, 191, 193, 197, 199, 211, 223, 227, 229, 233, 239, 241, 251, 257, 263, 269, 271, 277, 281, 283, 293, 307, 311, 313, 317, 331, 337, 347, 349, 353, 359, 367, 373, 379, 383, 389, 397, 401, 409, 419, 421, 431, 433, 439, 443, 449, 457, 461, 463, 467, 479, 487, 491, 499, 503, 509, 521, 523, 541, 547, 557, 563, 569, 571, 577, 587, 593, 599, 601, 607, 613, 617, 619, 631, 641, 643, 647, 653, 659, 661, 673, 677, 683, 691, 701, 709, 719, 727, 733, 739, 743, 751, 757, 761, 769, 773, 787, 797, 809, 811, 821, 823, 827, 829, 839, 853, 857, 859, 863, 877, 881, 883, 887, 907, 911, 919, 929, 937, 941, 947, 953, 967, 971, 977, 983, 991, 997]\n"
     ]
    }
   ],
   "source": [
    "PrimeList = [] # save prime values using list \n",
    "for x in range(2, max + 1) :\n",
    "            isPrime = True\n",
    "            for y in range(2, int(x**0.5)+1) : #stopping when reach the square root number\n",
    "                if x % y == 0 :\n",
    "                    isPrime = False\n",
    "                    break # not a prime stop calculating in the inner loop\n",
    "            if isPrime :\n",
    "                PrimeList.append(x) # a list of all the found prime numbers & print them just in one print statement\n",
    "print(PrimeList)"
   ]
  },
  {
   "cell_type": "markdown",
   "metadata": {},
   "source": [
    "*S2 find twin primes*"
   ]
  },
  {
   "cell_type": "code",
   "execution_count": 6,
   "metadata": {
    "scrolled": true
   },
   "outputs": [
    {
     "name": "stdout",
     "output_type": "stream",
     "text": [
      "[[3, 5], [5, 7], [11, 13], [17, 19], [29, 31], [41, 43], [59, 61], [71, 73], [101, 103], [107, 109], [137, 139], [149, 151], [179, 181], [191, 193], [197, 199], [227, 229], [239, 241], [269, 271], [281, 283], [311, 313], [347, 349], [419, 421], [431, 433], [461, 463], [521, 523], [569, 571], [599, 601], [617, 619], [641, 643], [659, 661], [809, 811], [821, 823], [827, 829], [857, 859], [881, 883]]\n"
     ]
    },
    {
     "data": {
      "text/plain": [
       "35"
      ]
     },
     "execution_count": 6,
     "metadata": {},
     "output_type": "execute_result"
    }
   ],
   "source": [
    "TwinPrimesList = []\n",
    "for i in range(len(PrimeList)-1) :\n",
    "    areTwinPrimes = False\n",
    "    if abs (PrimeList[i]-PrimeList[i+1]) == 2 :\n",
    "        areTwinPrimes = True\n",
    "    if areTwinPrimes :\n",
    "        TwinPrimesList.append([PrimeList[i],PrimeList[i+1]])\n",
    "print(TwinPrimesList)\n",
    "len(TwinPrimesList) "
   ]
  },
  {
   "cell_type": "markdown",
   "metadata": {},
   "source": [
    " *S3 class*"
   ]
  },
  {
   "cell_type": "code",
   "execution_count": 7,
   "metadata": {
    "scrolled": true
   },
   "outputs": [
    {
     "name": "stdout",
     "output_type": "stream",
     "text": [
      "The number of twin primes in [2,10000] is 205 \n",
      " The Biggest Twin Primes are [9929, 9931] Twin Primes : \n",
      " [[3, 5], [5, 7], [11, 13], [17, 19], [29, 31], [41, 43], [59, 61], [71, 73], [101, 103], [107, 109], [137, 139], [149, 151], [179, 181], [191, 193], [197, 199], [227, 229], [239, 241], [269, 271], [281, 283], [311, 313], [347, 349], [419, 421], [431, 433], [461, 463], [521, 523], [569, 571], [599, 601], [617, 619], [641, 643], [659, 661], [809, 811], [821, 823], [827, 829], [857, 859], [881, 883], [1019, 1021], [1031, 1033], [1049, 1051], [1061, 1063], [1091, 1093], [1151, 1153], [1229, 1231], [1277, 1279], [1289, 1291], [1301, 1303], [1319, 1321], [1427, 1429], [1451, 1453], [1481, 1483], [1487, 1489], [1607, 1609], [1619, 1621], [1667, 1669], [1697, 1699], [1721, 1723], [1787, 1789], [1871, 1873], [1877, 1879], [1931, 1933], [1949, 1951], [1997, 1999], [2027, 2029], [2081, 2083], [2087, 2089], [2111, 2113], [2129, 2131], [2141, 2143], [2237, 2239], [2267, 2269], [2309, 2311], [2339, 2341], [2381, 2383], [2549, 2551], [2591, 2593], [2657, 2659], [2687, 2689], [2711, 2713], [2729, 2731], [2789, 2791], [2801, 2803], [2969, 2971], [2999, 3001], [3119, 3121], [3167, 3169], [3251, 3253], [3257, 3259], [3299, 3301], [3329, 3331], [3359, 3361], [3371, 3373], [3389, 3391], [3461, 3463], [3467, 3469], [3527, 3529], [3539, 3541], [3557, 3559], [3581, 3583], [3671, 3673], [3767, 3769], [3821, 3823], [3851, 3853], [3917, 3919], [3929, 3931], [4001, 4003], [4019, 4021], [4049, 4051], [4091, 4093], [4127, 4129], [4157, 4159], [4217, 4219], [4229, 4231], [4241, 4243], [4259, 4261], [4271, 4273], [4337, 4339], [4421, 4423], [4481, 4483], [4517, 4519], [4547, 4549], [4637, 4639], [4649, 4651], [4721, 4723], [4787, 4789], [4799, 4801], [4931, 4933], [4967, 4969], [5009, 5011], [5021, 5023], [5099, 5101], [5231, 5233], [5279, 5281], [5417, 5419], [5441, 5443], [5477, 5479], [5501, 5503], [5519, 5521], [5639, 5641], [5651, 5653], [5657, 5659], [5741, 5743], [5849, 5851], [5867, 5869], [5879, 5881], [6089, 6091], [6131, 6133], [6197, 6199], [6269, 6271], [6299, 6301], [6359, 6361], [6449, 6451], [6551, 6553], [6569, 6571], [6659, 6661], [6689, 6691], [6701, 6703], [6761, 6763], [6779, 6781], [6791, 6793], [6827, 6829], [6869, 6871], [6947, 6949], [6959, 6961], [7127, 7129], [7211, 7213], [7307, 7309], [7331, 7333], [7349, 7351], [7457, 7459], [7487, 7489], [7547, 7549], [7559, 7561], [7589, 7591], [7757, 7759], [7877, 7879], [7949, 7951], [8009, 8011], [8087, 8089], [8219, 8221], [8231, 8233], [8291, 8293], [8387, 8389], [8429, 8431], [8537, 8539], [8597, 8599], [8627, 8629], [8819, 8821], [8837, 8839], [8861, 8863], [8969, 8971], [8999, 9001], [9011, 9013], [9041, 9043], [9239, 9241], [9281, 9283], [9341, 9343], [9419, 9421], [9431, 9433], [9437, 9439], [9461, 9463], [9629, 9631], [9677, 9679], [9719, 9721], [9767, 9769], [9857, 9859], [9929, 9931]]\n"
     ]
    }
   ],
   "source": [
    "class TP(object):\n",
    "    def __init__(self,min,max) :\n",
    "        self.min = min\n",
    "        self.max = max\n",
    "    def TwinPrimesList(self) :\n",
    "        PrimeList = [] # save prime values using list \n",
    "        for x in range(self.min, self.max + 1) :\n",
    "            isPrime = True\n",
    "            for y in range(2, int(x**0.5)+1) : #stopping when reach the square root number\n",
    "                if x % y == 0 :\n",
    "                    isPrime = False\n",
    "                    break # not a prime stop calculating in the inner loop\n",
    "            if isPrime :\n",
    "                PrimeList.append(x) # a list of all the found prime numbers & print them just in one print statement\n",
    "        TwinPrimesList = []\n",
    "        for i in range(len(PrimeList)-1) :\n",
    "            areTwinPrimes = False\n",
    "            if abs (PrimeList[i]-PrimeList[i+1]) == 2 :\n",
    "                areTwinPrimes = True\n",
    "                \n",
    "            if areTwinPrimes :\n",
    "                TwinPrimesList.append([PrimeList[i],PrimeList[i+1]])\n",
    "        return TwinPrimesList\n",
    "#××××××××××××××××××××××××××××××××××××××××××××××#\n",
    "min = 2\n",
    "max = 10000\n",
    "case = TP(min,max)\n",
    "TPL = case.TwinPrimesList()\n",
    "N = len(TPL)\n",
    "BTP = TPL[N-1]    \n",
    "if N <= 500              :\n",
    "    print (\"The number of twin primes in [%s,%s] is %s \\n\"%(min,max,N),\"The Biggest Twin Primes are %s\"%(BTP),\"Twin Primes : \\n\",case.TwinPrimesList())\n",
    "else :\n",
    "    print (\"The number of twin primes in [%s,%s] is %s \\n\"%(min,max,N),\"The Biggest Twin Primes are %s\"%(BTP))\n",
    "\n",
    "\n",
    "#××××××××××××××××××××××××××××××××××××××××××××××#\n",
    "        \n",
    "        \n",
    "            \n",
    "            \n",
    "    \n",
    "        \n",
    "    "
   ]
  },
  {
   "cell_type": "markdown",
   "metadata": {},
   "source": [
    "# Programs to Q1 \n",
    "   Find twin primes in [1000,1000000]"
   ]
  },
  {
   "cell_type": "code",
   "execution_count": 35,
   "metadata": {},
   "outputs": [
    {
     "name": "stdout",
     "output_type": "stream",
     "text": [
      "The number of twin primes in [1000,1000000] is 8134 \n",
      " The Biggest Twin Primes are [999959, 999961] \n",
      " The result is too long to show\n"
     ]
    }
   ],
   "source": [
    "min = 1000\n",
    "max = 1000000\n",
    "case = TP(min,max)\n",
    "TPL = case.TwinPrimesList()\n",
    "N = len(TPL)\n",
    "BTP = TPL[N-1]    \n",
    "if N <= 500              :\n",
    "    print (\"The number of twin primes in [%s,%s] is %s \\n\"%(min,max,N),\"The Biggest Twin Primes are %s\"%(BTP),\"Twin Primes : \\n\",case.TwinPrimesList())\n",
    "else :\n",
    "    print (\"The number of twin primes in [%s,%s] is %s \\n\"%(min,max,N),\"The Biggest Twin Primes are %s \\n\"%(BTP),\"The result is too long to show\")"
   ]
  },
  {
   "cell_type": "markdown",
   "metadata": {},
   "source": [
    "# Programs to Q2\n",
    "**the biggest twin prime**"
   ]
  },
  {
   "cell_type": "code",
   "execution_count": 45,
   "metadata": {},
   "outputs": [],
   "source": [
    "def isprime(b) : \n",
    "    judge = True\n",
    "    for y in range(2, int(x**0.5)+1) : #stopping when reach the square root number\n",
    "        if b % y == 0  :\n",
    "            judge = False\n",
    "            break # not a prime stop calculating in the inner loop\n",
    "    return judge"
   ]
  },
  {
   "cell_type": "code",
   "execution_count": 78,
   "metadata": {},
   "outputs": [],
   "source": [
    "def find(k) :\n",
    "    for i in range(k - 100, k + 1) :\n",
    "        if isprime(i) is True and isprime(i + 2) is True :\n",
    "            c = i\n",
    "    return c"
   ]
  },
  {
   "cell_type": "code",
   "execution_count": 99,
   "metadata": {},
   "outputs": [
    {
     "name": "stdout",
     "output_type": "stream",
     "text": [
      "The biggest twin primes are [100000000000000001097906362944045541740492309677311846336810682903157585404911491537163328978494688899061249669721172515611590283743140088328307009198146046031271664502933027185697489699588559043338384466165001178426897626212945177628091195786707458122783970171784415105291802893207873272974885715430223118327 , 100000000000000001097906362944045541740492309677311846336810682903157585404911491537163328978494688899061249669721172515611590283743140088328307009198146046031271664502933027185697489699588559043338384466165001178426897626212945177628091195786707458122783970171784415105291802893207873272974885715430223118329]  \n",
      " takes 0.0019948482513427734 s to find the result \n",
      "\n"
     ]
    }
   ],
   "source": [
    "import time\n",
    "s = time.time()\n",
    "biggest = find(int(10e307))\n",
    "e = time.time()\n",
    "print (\"The biggest twin primes are [%s , %s]  \\n\"%(biggest,biggest+2),\"takes %s s to find the result \\n\"%(e-s))"
   ]
  },
  {
   "cell_type": "code",
   "execution_count": null,
   "metadata": {},
   "outputs": [],
   "source": []
  }
 ],
 "metadata": {
  "kernelspec": {
   "display_name": "Python [default]",
   "language": "python",
   "name": "python3"
  },
  "language_info": {
   "codemirror_mode": {
    "name": "ipython",
    "version": 3
   },
   "file_extension": ".py",
   "mimetype": "text/x-python",
   "name": "python",
   "nbconvert_exporter": "python",
   "pygments_lexer": "ipython3",
   "version": "3.7.0"
  }
 },
 "nbformat": 4,
 "nbformat_minor": 2
}
