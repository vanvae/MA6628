{
 "cells": [
  {
   "cell_type": "markdown",
   "metadata": {},
   "source": [
    "**Prj02.** (L04) This is an application of BSM evaluation to Geometric asian option price\n",
    "\n",
    "Geometric asian call option with maturity $T$ and strike $K$ has its pay off as\n",
    "$$C(T) = (A(T) - K)^+,$$\n",
    "where $A(T)$ is geometric average of the stock price at times\n",
    "$0 \\le t_1 < t_2, \\ldots, < t_n = T$, i.e.\n",
    "$$A(T) = (S(t_1)S(t_2) \\ldots S(t_n))^{1/n}.$$\n",
    "\n",
    "The call price can be thus written by\n",
    "$$C_0 = \\mathbb E [e^{-rT} (A(T) - K)^+].$$\n",
    "\n",
    "**To do**\n",
    "Use \"BSM_option_valuation\" module to find the BSM asian option value with the following parameters\n",
    "\n"
   ]
  },
  {
   "cell_type": "code",
   "execution_count": 1,
   "metadata": {},
   "outputs": [],
   "source": [
    "%reset -f\n",
    "import numpy as np\n",
    "#An example is given here\n",
    "S0 = 100.0 #initial stock price\n",
    "K = 110.0 #strike\n",
    "r=0.0475 #interest rate\n",
    "sigma = 0.20 #vol\n",
    "T = 1. #maturity\n",
    "Otype='C' #Call type\n",
    "n = 4 #number of periods\n",
    "t = np.linspace(0., T, n+1)[1:] #times to be used for geometric averaging stock price"
   ]
  },
  {
   "cell_type": "markdown",
   "metadata": {},
   "source": [
    "**Hint** \n",
    "\n",
    "Under the above BS model, one can show that the distribution of $A(T)$ is again a lognormal under EMM in the form of\n",
    "$$A_T = S_0 \\exp \\{ (\\hat r - \\frac 1 2 \\hat \\sigma^2)T + \\hat \\sigma \\sqrt T \\hat Z\\}.$$\n",
    "In the above, $\\hat Z$ is a standard normal random variable, $\\hat \\sigma$ is\n",
    "$$\\hat \\sigma = \\frac{\\sigma}{n} \\sqrt{\\frac{(n+1)(2n+1)}{6}}$$\n",
    "and $\\hat r$ is\n",
    "$$\\hat r = \\frac 1 2 \\hat \\sigma^2 + \\frac{n+1}{2n}(r - \\frac 1 2 \\sigma^2).$$\n",
    "Then, by fundamental asset pricing theory, we have GAC price by\n",
    "$$\\Pi_0^c = e^{(\\hat r - r)T} \\mathbb E [ e^{-\\hat r T} (A_T - K)^+].$$\n"
   ]
  },
  {
   "cell_type": "markdown",
   "metadata": {},
   "source": [
    "---"
   ]
  },
  {
   "cell_type": "markdown",
   "metadata": {},
   "source": [
    "* ***BSM_option_valuation***"
   ]
  },
  {
   "cell_type": "code",
   "execution_count": 2,
   "metadata": {},
   "outputs": [],
   "source": [
    "import numpy as np\n",
    "import scipy.stats as ss\n",
    "import time \n",
    "import math"
   ]
  },
  {
   "cell_type": "code",
   "execution_count": 3,
   "metadata": {},
   "outputs": [],
   "source": [
    "def d1f(St, K, t, T, r, sigma):\n",
    "    ''' Black-Scholes-Merton d1 function.\n",
    "        Parameters see e.g. BSM_call_value function. '''\n",
    "    d1 = (math.log(St / K) + (r + 0.5 * sigma ** 2)\n",
    "          * (T - t)) / (sigma * math.sqrt(T - t))\n",
    "    return d1"
   ]
  },
  {
   "cell_type": "code",
   "execution_count": 4,
   "metadata": {},
   "outputs": [],
   "source": [
    "def BSM_call_value(St, K, t, T, r, sigma):\n",
    "    ''' Calculates Black-Scholes-Merton European call option value.\n",
    "\n",
    "    Parameters\n",
    "    ==========\n",
    "    St : float\n",
    "        stock/index level at time t\n",
    "    K : float\n",
    "        strike price\n",
    "    t : float\n",
    "        valuation date\n",
    "    T : float\n",
    "        date of maturity/time-to-maturity if t = 0; T > t\n",
    "    r : float\n",
    "        constant, risk-less short rate\n",
    "    sigma : float\n",
    "        volatility\n",
    "\n",
    "    Returns\n",
    "    =======\n",
    "    call_value : float\n",
    "        European call present value at t\n",
    "    '''\n",
    "    d1 = d1f(St, K, t, T, r, sigma)\n",
    "    d2 = d1 - sigma * math.sqrt(T - t)\n",
    "    call_value = St * ss.norm.cdf(d1) - math.exp(-r * (T - t)) * K * ss.norm.cdf(d2)\n",
    "    return call_value\n",
    "\n",
    "def BSM_put_value(St, K, t, T, r, sigma):\n",
    "    ''' Calculates Black-Scholes-Merton European put option value.\n",
    "\n",
    "    Parameters\n",
    "    ==========\n",
    "    St : float\n",
    "        stock/index level at time t\n",
    "    K : float\n",
    "        strike price\n",
    "    t : float\n",
    "        valuation date\n",
    "    T : float\n",
    "        date of maturity/time-to-maturity if t = 0; T > t\n",
    "    r : float\n",
    "        constant, risk-less short rate\n",
    "    sigma : float\n",
    "        volatility\n",
    "\n",
    "    Returns\n",
    "    =======\n",
    "    put_value : float\n",
    "        European put present value at t\n",
    "    '''\n",
    "    put_value = BSM_call_value(St, K, t, T, r, sigma) \\\n",
    "        - St + math.exp(-r * (T - t)) * K\n",
    "    return put_value"
   ]
  },
  {
   "cell_type": "markdown",
   "metadata": {},
   "source": [
    "* ***Asian parameters & GAC price***\n",
    "$$\\hat \\sigma = \\frac{\\sigma}{n} \\sqrt{\\frac{(n+1)(2n+1)}{6}}$$\n",
    "$$\\hat r = \\frac 1 2 \\hat \\sigma^2 + \\frac{n+1}{2n}(r - \\frac 1 2 \\sigma^2).$$\n",
    "$$\\Pi_0^c = e^{(\\hat r - r)T} \\mathbb E [ e^{-\\hat r T} (A_T - K)^+].$$"
   ]
  },
  {
   "cell_type": "code",
   "execution_count": 15,
   "metadata": {},
   "outputs": [
    {
     "name": "stdout",
     "output_type": "stream",
     "text": [
      "sigma_hat is 0.13693063937629155 \n",
      "  r_hat is 0.026562500000000003\n"
     ]
    }
   ],
   "source": [
    "sigma_hat = sigma / n * np.sqrt ((n + 1) * (2 * n + 1) / 6)\n",
    "r_hat = 0.5 * sigma_hat ** 2 + (n + 1) / (2 * n) * (r - 0.5 * sigma ** 2)\n",
    "print(\"sigma_hat is %s \\n \" %(sigma_hat),\"r_hat is %s\"%(r_hat))"
   ]
  },
  {
   "cell_type": "markdown",
   "metadata": {},
   "source": [
    "# BSM asian call option value"
   ]
  },
  {
   "cell_type": "code",
   "execution_count": 18,
   "metadata": {},
   "outputs": [
    {
     "name": "stdout",
     "output_type": "stream",
     "text": [
      "the price of GAC at t0 is 2.7329867250697175\n"
     ]
    }
   ],
   "source": [
    "GAC_price = np.exp((r_hat - r) * (T - 0)) * BSM_call_value(S0, K, 0, T, r_hat, sigma_hat)\n",
    "print(\"the price of GAC at t0 is\", GAC_price)"
   ]
  },
  {
   "cell_type": "code",
   "execution_count": null,
   "metadata": {},
   "outputs": [],
   "source": []
  }
 ],
 "metadata": {
  "kernelspec": {
   "display_name": "Python [conda env:Anaconda]",
   "language": "python",
   "name": "conda-env-Anaconda-py"
  },
  "language_info": {
   "codemirror_mode": {
    "name": "ipython",
    "version": 3
   },
   "file_extension": ".py",
   "mimetype": "text/x-python",
   "name": "python",
   "nbconvert_exporter": "python",
   "pygments_lexer": "ipython3",
   "version": "3.7.0"
  }
 },
 "nbformat": 4,
 "nbformat_minor": 2
}
